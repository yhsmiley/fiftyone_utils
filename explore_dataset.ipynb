{
 "cells": [
  {
   "cell_type": "markdown",
   "id": "ce128f15",
   "metadata": {},
   "source": [
    "## Functions\n",
    "\n",
    "- check number of images in folder is same as json['images']\n",
    "- get number of images with detections\n",
    "- get number of detections\n",
    "- get images in folder that are not in json['images']\n",
    "- check images file structure - no need cause there will be error when creating fiftyone dataset\n",
    "- get json['images'] not in images folder - no need cause there will be error when creating fiftyone dataset"
   ]
  },
  {
   "cell_type": "markdown",
   "id": "fb78cc6a",
   "metadata": {},
   "source": [
    "## Setup"
   ]
  },
  {
   "cell_type": "code",
   "execution_count": null,
   "id": "b807f1e5",
   "metadata": {},
   "outputs": [],
   "source": [
    "from pathlib import Path\n",
    "\n",
    "import fiftyone as fo\n",
    "from fiftyone import ViewField as F"
   ]
  },
  {
   "cell_type": "markdown",
   "id": "2957075c",
   "metadata": {},
   "source": [
    "## Import dataset\n",
    "\n",
    "This example uses the COCO object detection format, but you can change the dataset_type to any of the [supported formats](https://voxel51.com/docs/fiftyone/user_guide/dataset_creation/datasets.html#supported-import-formats)\n",
    "\n",
    "Some documentation on [SampleCollection](https://voxel51.com/docs/fiftyone/api/fiftyone.core.collections.html#fiftyone.core.collections.SampleCollection)"
   ]
  },
  {
   "cell_type": "code",
   "execution_count": 70,
   "id": "11b0508d",
   "metadata": {},
   "outputs": [
    {
     "name": "stdout",
     "output_type": "stream",
     "text": [
      " 100% |███████████████| 2198/2198 [2.6s elapsed, 0s remaining, 836.9 samples/s]      \n"
     ]
    }
   ],
   "source": [
    "data_path = \"/media/data/datasets/PersDet/TODO_CaltechPedestrians_blacked_10x/images\"\n",
    "labels_path = \"/media/data/datasets/PersDet/TODO_CaltechPedestrians_blacked_10x/test.json\"\n",
    "\n",
    "dataset = fo.Dataset.from_dir(\n",
    "    dataset_type=fo.types.COCODetectionDataset,\n",
    "    data_path=data_path,\n",
    "    labels_path=labels_path,\n",
    ")"
   ]
  },
  {
   "cell_type": "code",
   "execution_count": 71,
   "id": "0694fcbc",
   "metadata": {},
   "outputs": [
    {
     "data": {
      "text/plain": [
       "Name:        2023.01.17.15.24.34\n",
       "Media type:  image\n",
       "Num samples: 2198\n",
       "Persistent:  False\n",
       "Tags:        []\n",
       "Sample fields:\n",
       "    id:           fiftyone.core.fields.ObjectIdField\n",
       "    filepath:     fiftyone.core.fields.StringField\n",
       "    tags:         fiftyone.core.fields.ListField(fiftyone.core.fields.StringField)\n",
       "    metadata:     fiftyone.core.fields.EmbeddedDocumentField(fiftyone.core.metadata.ImageMetadata)\n",
       "    ground_truth: fiftyone.core.fields.EmbeddedDocumentField(fiftyone.core.labels.Detections)"
      ]
     },
     "execution_count": 71,
     "metadata": {},
     "output_type": "execute_result"
    }
   ],
   "source": [
    "dataset"
   ]
  },
  {
   "cell_type": "code",
   "execution_count": 72,
   "id": "72d33eba",
   "metadata": {},
   "outputs": [
    {
     "data": {
      "text/plain": [
       "{'contributor': '',\n",
       " 'date_created': '',\n",
       " 'description': '',\n",
       " 'url': '',\n",
       " 'version': '',\n",
       " 'year': '',\n",
       " 'licenses': [{'name': '', 'id': 0, 'url': ''}],\n",
       " 'categories': [{'id': 1, 'name': 'person', 'supercategory': 'person'}]}"
      ]
     },
     "execution_count": 72,
     "metadata": {},
     "output_type": "execute_result"
    }
   ],
   "source": [
    "dataset.info"
   ]
  },
  {
   "cell_type": "code",
   "execution_count": 73,
   "id": "92f21119",
   "metadata": {},
   "outputs": [],
   "source": [
    "# dataset.head()"
   ]
  },
  {
   "cell_type": "code",
   "execution_count": 74,
   "id": "96d95b6b",
   "metadata": {},
   "outputs": [],
   "source": [
    "# # Print a sample ground truth detection\n",
    "# sample = dataset.first()\n",
    "# print(sample.ground_truth.detections[0])"
   ]
  },
  {
   "cell_type": "code",
   "execution_count": 75,
   "id": "9c71f129",
   "metadata": {},
   "outputs": [],
   "source": [
    "IMAGES_SUFFIX = ['.jpg', '.png']"
   ]
  },
  {
   "cell_type": "code",
   "execution_count": 76,
   "id": "a00acb52",
   "metadata": {},
   "outputs": [
    {
     "name": "stdout",
     "output_type": "stream",
     "text": [
      "num_images_json: 2198\n",
      "num_images_folder: 24988\n"
     ]
    }
   ],
   "source": [
    "# check number of images in folder is same as json['images']\n",
    "\n",
    "num_images_json = len(dataset)\n",
    "print(f'num_images_json: {num_images_json}')\n",
    "\n",
    "num_images_folder = 0\n",
    "for path in Path(data_path).rglob(\"*\"):\n",
    "    if path.is_file() and path.suffix in IMAGES_SUFFIX:\n",
    "        num_images_folder += 1\n",
    "print(f'num_images_folder: {num_images_folder}')"
   ]
  },
  {
   "cell_type": "code",
   "execution_count": 77,
   "id": "85928a4d",
   "metadata": {},
   "outputs": [
    {
     "name": "stdout",
     "output_type": "stream",
     "text": [
      "num_images_with_dets: 1251\n"
     ]
    }
   ],
   "source": [
    "# get number of images with detections\n",
    "\n",
    "num_images_with_dets = dataset.match(F(\"ground_truth.detections\").length() > 0)\n",
    "print(f'num_images_with_dets: {len(num_images_with_dets)}')"
   ]
  },
  {
   "cell_type": "code",
   "execution_count": 78,
   "id": "b373ea6f",
   "metadata": {},
   "outputs": [
    {
     "name": "stdout",
     "output_type": "stream",
     "text": [
      "num_detections: 2725\n"
     ]
    }
   ],
   "source": [
    "# get number of detections\n",
    "\n",
    "num_detections = dataset.count(\"ground_truth.detections\")\n",
    "print(f'num_detections: {num_detections}')"
   ]
  },
  {
   "cell_type": "code",
   "execution_count": 69,
   "id": "32f57fc4",
   "metadata": {},
   "outputs": [],
   "source": [
    "filepaths_json = dataset.values('filepath')\n",
    "filepaths_json = [Path(path) for path in filepaths_json]\n",
    "# filepaths_json"
   ]
  },
  {
   "cell_type": "code",
   "execution_count": 36,
   "id": "df1e38b4",
   "metadata": {},
   "outputs": [
    {
     "ename": "KeyboardInterrupt",
     "evalue": "",
     "output_type": "error",
     "traceback": [
      "\u001b[0;31m---------------------------------------------------------------------------\u001b[0m",
      "\u001b[0;31mKeyboardInterrupt\u001b[0m                         Traceback (most recent call last)",
      "Input \u001b[0;32mIn [36]\u001b[0m, in \u001b[0;36m<cell line: 5>\u001b[0;34m()\u001b[0m\n\u001b[1;32m      5\u001b[0m \u001b[38;5;28;01mfor\u001b[39;00m path \u001b[38;5;129;01min\u001b[39;00m Path(data_path)\u001b[38;5;241m.\u001b[39mrglob(\u001b[38;5;124m\"\u001b[39m\u001b[38;5;124m*\u001b[39m\u001b[38;5;124m\"\u001b[39m):\n\u001b[1;32m      6\u001b[0m     \u001b[38;5;28;01mif\u001b[39;00m path\u001b[38;5;241m.\u001b[39mis_file() \u001b[38;5;129;01mand\u001b[39;00m path\u001b[38;5;241m.\u001b[39msuffix \u001b[38;5;129;01min\u001b[39;00m IMAGES_SUFFIX:\n\u001b[0;32m----> 7\u001b[0m         \u001b[38;5;28;01mif\u001b[39;00m \u001b[43mpath\u001b[49m\u001b[43m \u001b[49m\u001b[38;5;129;43;01mnot\u001b[39;49;00m\u001b[43m \u001b[49m\u001b[38;5;129;43;01min\u001b[39;49;00m\u001b[43m \u001b[49m\u001b[43mfilepaths_json\u001b[49m:\n\u001b[1;32m      8\u001b[0m             p_relative \u001b[38;5;241m=\u001b[39m path\u001b[38;5;241m.\u001b[39mrelative_to(data_path_path)\n\u001b[1;32m      9\u001b[0m             missing_images_in_json\u001b[38;5;241m.\u001b[39mappend(\u001b[38;5;28mstr\u001b[39m(p_relative))\n",
      "File \u001b[0;32m/usr/lib/python3.8/pathlib.py:760\u001b[0m, in \u001b[0;36mPurePath.__eq__\u001b[0;34m(self, other)\u001b[0m\n\u001b[1;32m    757\u001b[0m         \u001b[38;5;28mself\u001b[39m\u001b[38;5;241m.\u001b[39m_cached_cparts \u001b[38;5;241m=\u001b[39m \u001b[38;5;28mself\u001b[39m\u001b[38;5;241m.\u001b[39m_flavour\u001b[38;5;241m.\u001b[39mcasefold_parts(\u001b[38;5;28mself\u001b[39m\u001b[38;5;241m.\u001b[39m_parts)\n\u001b[1;32m    758\u001b[0m         \u001b[38;5;28;01mreturn\u001b[39;00m \u001b[38;5;28mself\u001b[39m\u001b[38;5;241m.\u001b[39m_cached_cparts\n\u001b[0;32m--> 760\u001b[0m \u001b[38;5;28;01mdef\u001b[39;00m \u001b[38;5;21m__eq__\u001b[39m(\u001b[38;5;28mself\u001b[39m, other):\n\u001b[1;32m    761\u001b[0m     \u001b[38;5;28;01mif\u001b[39;00m \u001b[38;5;129;01mnot\u001b[39;00m \u001b[38;5;28misinstance\u001b[39m(other, PurePath):\n\u001b[1;32m    762\u001b[0m         \u001b[38;5;28;01mreturn\u001b[39;00m \u001b[38;5;28mNotImplemented\u001b[39m\n",
      "\u001b[0;31mKeyboardInterrupt\u001b[0m: "
     ]
    }
   ],
   "source": [
    "# get images in folder that are not in json['images']\n",
    "\n",
    "data_path_path = Path(data_path)\n",
    "missing_images_in_json = []\n",
    "for path in Path(data_path).rglob(\"*\"):\n",
    "    if path.is_file() and path.suffix in IMAGES_SUFFIX:\n",
    "        if path not in filepaths_json:\n",
    "            p_relative = path.relative_to(data_path_path)\n",
    "            missing_images_in_json.append(str(p_relative))\n",
    "missing_images_in_json"
   ]
  },
  {
   "cell_type": "markdown",
   "id": "f6a540c9",
   "metadata": {},
   "source": [
    "## Run App"
   ]
  },
  {
   "cell_type": "code",
   "execution_count": 49,
   "id": "94de6640",
   "metadata": {},
   "outputs": [
    {
     "name": "stdout",
     "output_type": "stream",
     "text": [
      "Session launched. Run `session.show()` to open the App in a cell output.\n"
     ]
    }
   ],
   "source": [
    "# Launch the App\n",
    "# session = fo.launch_app(dataset)\n",
    "\n",
    "# To launch the App in a dedicated browser tab, run this line and go to 127.0.0.1:5151\n",
    "session = fo.launch_app(dataset, auto=False)"
   ]
  },
  {
   "cell_type": "code",
   "execution_count": 50,
   "id": "6dc87eb2",
   "metadata": {},
   "outputs": [],
   "source": [
    "random_view = dataset.take(100)\n",
    "session.view = random_view"
   ]
  },
  {
   "cell_type": "code",
   "execution_count": null,
   "id": "f384a422",
   "metadata": {},
   "outputs": [],
   "source": []
  }
 ],
 "metadata": {
  "kernelspec": {
   "display_name": "Python 3 (ipykernel)",
   "language": "python",
   "name": "python3"
  },
  "language_info": {
   "codemirror_mode": {
    "name": "ipython",
    "version": 3
   },
   "file_extension": ".py",
   "mimetype": "text/x-python",
   "name": "python",
   "nbconvert_exporter": "python",
   "pygments_lexer": "ipython3",
   "version": "3.8.10"
  }
 },
 "nbformat": 4,
 "nbformat_minor": 5
}
