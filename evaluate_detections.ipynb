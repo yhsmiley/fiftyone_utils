{
 "cells": [
  {
   "cell_type": "markdown",
   "id": "bd358ac4",
   "metadata": {},
   "source": [
    "## Setup"
   ]
  },
  {
   "cell_type": "code",
   "execution_count": 1,
   "id": "8a1741b7",
   "metadata": {},
   "outputs": [],
   "source": [
    "import json\n",
    "\n",
    "import fiftyone as fo\n",
    "from fiftyone import ViewField as F"
   ]
  },
  {
   "cell_type": "code",
   "execution_count": 2,
   "id": "16a16165",
   "metadata": {},
   "outputs": [],
   "source": [
    "# A name for the dataset\n",
    "name = \"my-dataset\"\n",
    "\n",
    "# The directory containing the source images\n",
    "data_path = \"/media/data/datasets/TIL2021_CV_dataset/images/c3_test/images\"\n",
    "\n",
    "# The path to the COCO labels JSON file\n",
    "labels_path = \"/media/data/datasets/TIL2021_CV_dataset/images/c3_test/c3_test.json\"\n",
    "\n",
    "# The path to the COCO predictions JSON file\n",
    "preds_path = \"/media/data/datasets/TIL2021_CV_dataset/images/c3_test/til21_c3_pred.json\""
   ]
  },
  {
   "cell_type": "code",
   "execution_count": 3,
   "id": "f2e949c4",
   "metadata": {},
   "outputs": [],
   "source": [
    "with open(labels_path) as json_file:\n",
    "    labels_data = json.load(json_file)\n",
    "    \n",
    "with open(preds_path) as json_file:\n",
    "    preds_data = json.load(json_file)"
   ]
  },
  {
   "cell_type": "code",
   "execution_count": 4,
   "id": "39be8e77",
   "metadata": {},
   "outputs": [
    {
     "name": "stdout",
     "output_type": "stream",
     "text": [
      " 100% |█████████████████| 400/400 [830.9ms elapsed, 0s remaining, 482.8 samples/s]      \n"
     ]
    }
   ],
   "source": [
    "# Import the dataset\n",
    "dataset = fo.Dataset.from_dir(\n",
    "    dataset_type=fo.types.COCODetectionDataset,\n",
    "    data_path=data_path,\n",
    "    labels_path=labels_path,\n",
    "    name=name,\n",
    ")"
   ]
  },
  {
   "cell_type": "code",
   "execution_count": 5,
   "id": "f7242318",
   "metadata": {},
   "outputs": [
    {
     "data": {
      "text/plain": [
       "Name:        my-dataset\n",
       "Media type:  image\n",
       "Num samples: 400\n",
       "Persistent:  False\n",
       "Tags:        []\n",
       "Sample fields:\n",
       "    id:           fiftyone.core.fields.ObjectIdField\n",
       "    filepath:     fiftyone.core.fields.StringField\n",
       "    tags:         fiftyone.core.fields.ListField(fiftyone.core.fields.StringField)\n",
       "    metadata:     fiftyone.core.fields.EmbeddedDocumentField(fiftyone.core.metadata.Metadata)\n",
       "    ground_truth: fiftyone.core.fields.EmbeddedDocumentField(fiftyone.core.labels.Detections)"
      ]
     },
     "execution_count": 5,
     "metadata": {},
     "output_type": "execute_result"
    }
   ],
   "source": [
    "dataset"
   ]
  },
  {
   "cell_type": "code",
   "execution_count": 9,
   "id": "34f2e8be",
   "metadata": {},
   "outputs": [
    {
     "data": {
      "text/plain": [
       "<Sample: {\n",
       "    'id': '60e323641ac6220b1cbff789',\n",
       "    'media_type': 'image',\n",
       "    'filepath': '/media/data/datasets/TIL2021_CV_dataset/images/c3_test/images/1.jpg',\n",
       "    'tags': BaseList([]),\n",
       "    'metadata': <ImageMetadata: {\n",
       "        'size_bytes': None,\n",
       "        'mime_type': None,\n",
       "        'width': 1024,\n",
       "        'height': 768,\n",
       "        'num_channels': None,\n",
       "    }>,\n",
       "    'ground_truth': <Detections: {\n",
       "        'detections': BaseList([\n",
       "            <Detection: {\n",
       "                'id': '60e323641ac6220b1cbff783',\n",
       "                'attributes': BaseDict({}),\n",
       "                'tags': BaseList([]),\n",
       "                'label': 'Chicken',\n",
       "                'bounding_box': BaseList([\n",
       "                    0.73994140625,\n",
       "                    0.38212239583333335,\n",
       "                    0.26005859375,\n",
       "                    0.48194010416666666,\n",
       "                ]),\n",
       "                'mask': None,\n",
       "                'confidence': None,\n",
       "                'index': None,\n",
       "                'supercategory': '',\n",
       "                'iscrowd': 0,\n",
       "            }>,\n",
       "            <Detection: {\n",
       "                'id': '60e323641ac6220b1cbff784',\n",
       "                'attributes': BaseDict({}),\n",
       "                'tags': BaseList([]),\n",
       "                'label': 'Chicken',\n",
       "                'bounding_box': BaseList([\n",
       "                    0.0,\n",
       "                    0.5505338541666667,\n",
       "                    0.15375,\n",
       "                    0.44714843750000005,\n",
       "                ]),\n",
       "                'mask': None,\n",
       "                'confidence': None,\n",
       "                'index': None,\n",
       "                'supercategory': '',\n",
       "                'iscrowd': 0,\n",
       "            }>,\n",
       "            <Detection: {\n",
       "                'id': '60e323641ac6220b1cbff785',\n",
       "                'attributes': BaseDict({}),\n",
       "                'tags': BaseList([]),\n",
       "                'label': 'Chicken',\n",
       "                'bounding_box': BaseList([\n",
       "                    0.0,\n",
       "                    0.2392578125,\n",
       "                    0.1859765625,\n",
       "                    0.40998697916666665,\n",
       "                ]),\n",
       "                'mask': None,\n",
       "                'confidence': None,\n",
       "                'index': None,\n",
       "                'supercategory': '',\n",
       "                'iscrowd': 0,\n",
       "            }>,\n",
       "            <Detection: {\n",
       "                'id': '60e323641ac6220b1cbff786',\n",
       "                'attributes': BaseDict({}),\n",
       "                'tags': BaseList([]),\n",
       "                'label': 'Chicken',\n",
       "                'bounding_box': BaseList([0.51171875, 0.0, 0.48828125, 0.4506380208333333]),\n",
       "                'mask': None,\n",
       "                'confidence': None,\n",
       "                'index': None,\n",
       "                'supercategory': '',\n",
       "                'iscrowd': 0,\n",
       "            }>,\n",
       "            <Detection: {\n",
       "                'id': '60e323641ac6220b1cbff787',\n",
       "                'attributes': BaseDict({}),\n",
       "                'tags': BaseList([]),\n",
       "                'label': 'Chicken',\n",
       "                'bounding_box': BaseList([\n",
       "                    0.1337109375,\n",
       "                    0.019752604166666667,\n",
       "                    0.37458984375,\n",
       "                    0.9790885416666667,\n",
       "                ]),\n",
       "                'mask': None,\n",
       "                'confidence': None,\n",
       "                'index': None,\n",
       "                'supercategory': '',\n",
       "                'iscrowd': 0,\n",
       "            }>,\n",
       "            <Detection: {\n",
       "                'id': '60e323641ac6220b1cbff788',\n",
       "                'attributes': BaseDict({}),\n",
       "                'tags': BaseList([]),\n",
       "                'label': 'Chicken',\n",
       "                'bounding_box': BaseList([\n",
       "                    0.3919921875,\n",
       "                    0.18580729166666665,\n",
       "                    0.58974609375,\n",
       "                    0.8141927083333332,\n",
       "                ]),\n",
       "                'mask': None,\n",
       "                'confidence': None,\n",
       "                'index': None,\n",
       "                'supercategory': '',\n",
       "                'iscrowd': 0,\n",
       "            }>,\n",
       "        ]),\n",
       "    }>,\n",
       "}>"
      ]
     },
     "execution_count": 9,
     "metadata": {},
     "output_type": "execute_result"
    }
   ],
   "source": [
    "# Print a sample from the dataset\n",
    "sample = dataset.first()\n",
    "sample"
   ]
  },
  {
   "cell_type": "code",
   "execution_count": 10,
   "id": "91901ff4",
   "metadata": {},
   "outputs": [
    {
     "data": {
      "text/plain": [
       "<Detection: {\n",
       "    'id': '60e323641ac6220b1cbff783',\n",
       "    'attributes': BaseDict({}),\n",
       "    'tags': BaseList([]),\n",
       "    'label': 'Chicken',\n",
       "    'bounding_box': BaseList([\n",
       "        0.73994140625,\n",
       "        0.38212239583333335,\n",
       "        0.26005859375,\n",
       "        0.48194010416666666,\n",
       "    ]),\n",
       "    'mask': None,\n",
       "    'confidence': None,\n",
       "    'index': None,\n",
       "    'supercategory': '',\n",
       "    'iscrowd': 0,\n",
       "}>"
      ]
     },
     "execution_count": 10,
     "metadata": {},
     "output_type": "execute_result"
    }
   ],
   "source": [
    "# Print a ground truth detection\n",
    "sample.ground_truth.detections[0]"
   ]
  },
  {
   "cell_type": "code",
   "execution_count": 7,
   "id": "fb188d3f",
   "metadata": {},
   "outputs": [
    {
     "name": "stdout",
     "output_type": "stream",
     "text": [
      "Session launched. Run `session.show()` to open the App in a cell output.\n"
     ]
    }
   ],
   "source": [
    "# Launch the App in a dedicated browser tab\n",
    "session = fo.launch_app(dataset, auto=False)\n",
    "session.open_tab()"
   ]
  },
  {
   "cell_type": "markdown",
   "id": "b4e922a7",
   "metadata": {},
   "source": [
    "## Add predictions to dataset"
   ]
  },
  {
   "cell_type": "code",
   "execution_count": null,
   "id": "7bc294c1",
   "metadata": {},
   "outputs": [],
   "source": [
    "# Add predictions to samples\n",
    "cat2name = {cat['id']:cat['name'] for cat in labels_data[\"categories\"]}\n",
    "\n",
    "with fo.ProgressBar() as pb:\n",
    "    for sample in pb(dataset):\n",
    "        filepath = sample.filepath\n",
    "        filename = filepath.split('/')[-1]\n",
    "\n",
    "        # get image_id of sample\n",
    "        img_data = next(item for item in labels_data[\"images\"] if item[\"file_name\"] == filename)\n",
    "        image_id = img_data[\"id\"]\n",
    "        img_w = img_data[\"width\"]\n",
    "        img_h = img_data[\"height\"]\n",
    "\n",
    "        # Convert detections to FiftyOne format\n",
    "        detections = []\n",
    "        for pred in (x for x in preds_data if x[\"image_id\"] == image_id):\n",
    "            # Convert to [top-left-x, top-left-y, width, height] in relative coordinates in [0, 1] x [0, 1]\n",
    "            x, y, w, h = pred[\"bbox\"]\n",
    "            rel_box = [x / img_w, y / img_h, w / img_w, h / img_h]\n",
    "\n",
    "            detections.append(\n",
    "                fo.Detection(\n",
    "                    label=cat2name[pred[\"category_id\"]],\n",
    "                    bounding_box=rel_box,\n",
    "                    confidence=pred[\"score\"]\n",
    "                )\n",
    "            )\n",
    "\n",
    "        # Save predictions to dataset\n",
    "        sample[\"predictions\"] = fo.Detections(detections=detections)\n",
    "        sample.save()"
   ]
  },
  {
   "cell_type": "markdown",
   "id": "26b32549",
   "metadata": {},
   "source": [
    "## Analyzing detections"
   ]
  },
  {
   "cell_type": "markdown",
   "id": "d90a7892",
   "metadata": {},
   "source": [
    "### Evaluate detections"
   ]
  },
  {
   "cell_type": "code",
   "execution_count": null,
   "id": "4d224750",
   "metadata": {},
   "outputs": [],
   "source": [
    "# Evaluate the predictions of our dataset with respect to the objects in the `ground_truth` field\n",
    "all_results = dataset.evaluate_detections(\n",
    "    pred_field=\"predictions\",\n",
    "    gt_field=\"ground_truth\",\n",
    "    eval_key=\"eval\",\n",
    "    compute_mAP=True,\n",
    ")"
   ]
  },
  {
   "cell_type": "code",
   "execution_count": null,
   "id": "edfbb008",
   "metadata": {},
   "outputs": [],
   "source": [
    "# Compute the mean average-precision (mAP) of our detector\n",
    "print(all_results.mAP())"
   ]
  },
  {
   "cell_type": "code",
   "execution_count": null,
   "id": "bd9249d1",
   "metadata": {},
   "outputs": [],
   "source": [
    "# View some precision-recall (PR) curves for specific classes of our model \n",
    "plot = all_results.plot_pr_curves(classes=dataset.distinct(\"ground_truth.detections.label\"))\n",
    "plot.show()"
   ]
  },
  {
   "cell_type": "markdown",
   "id": "a3f256eb",
   "metadata": {},
   "source": [
    "### Confidence thresholding"
   ]
  },
  {
   "cell_type": "code",
   "execution_count": null,
   "id": "b7257b21",
   "metadata": {},
   "outputs": [],
   "source": [
    "# Only keep detections with confidence >= 0.5\n",
    "high_conf_view = dataset.filter_labels(\"predictions\", F(\"confidence\") > 0.5)\n",
    "session.view = high_conf_view"
   ]
  },
  {
   "cell_type": "code",
   "execution_count": null,
   "id": "0ac954e4",
   "metadata": {},
   "outputs": [],
   "source": [
    "# Evaluate the predictions of 'high_conf_view' with respect to the objects in the `ground_truth` field\n",
    "high_conf_results = high_conf_view.evaluate_detections(\n",
    "    pred_field=\"predictions\",\n",
    "    gt_field=\"ground_truth\",\n",
    "    eval_key=\"eval_high_conf\",\n",
    ")\n",
    "\n",
    "# Print a classification report\n",
    "high_conf_results.print_report()"
   ]
  },
  {
   "cell_type": "code",
   "execution_count": null,
   "id": "9233315f",
   "metadata": {},
   "outputs": [],
   "source": [
    "# In order for the confusion matrix to capture anything other than false positive/negative counts,\n",
    "# you will likely want to set the classwise parameter to False during evaluation so that detections \n",
    "# can be matched with ground truth objects of different classes.\n",
    "\n",
    "# Perform evaluation, allowing objects to be matched between classes\n",
    "conf_matrix_results = high_conf_view.evaluate_detections(\n",
    "    pred_field=\"predictions\",\n",
    "    gt_field=\"ground_truth\",\n",
    "    classwise=False\n",
    ")\n",
    "\n",
    "# Generate a confusion matrix\n",
    "plot = conf_matrix_results.plot_confusion_matrix(classes=dataset.distinct(\"ground_truth.detections.label\"))\n",
    "plot.show()"
   ]
  },
  {
   "cell_type": "markdown",
   "id": "7c0b8329",
   "metadata": {},
   "source": [
    "### View the best-performing samples"
   ]
  },
  {
   "cell_type": "code",
   "execution_count": null,
   "id": "da210e37",
   "metadata": {},
   "outputs": [],
   "source": [
    "# Show samples with most true positives\n",
    "session.view = high_conf_view.sort_by(\"eval_tp\", reverse=True)"
   ]
  },
  {
   "cell_type": "markdown",
   "id": "0d046c74",
   "metadata": {},
   "source": [
    "### View the worst-performing samples"
   ]
  },
  {
   "cell_type": "code",
   "execution_count": null,
   "id": "cf9fba51",
   "metadata": {},
   "outputs": [],
   "source": [
    "# Show samples with most false positives\n",
    "session.view = high_conf_view.sort_by(\"eval_fp\", reverse=True)"
   ]
  },
  {
   "cell_type": "markdown",
   "id": "d9d86c57",
   "metadata": {},
   "source": [
    "### Filtering by bounding box area"
   ]
  },
  {
   "cell_type": "code",
   "execution_count": null,
   "id": "970d0ba9",
   "metadata": {},
   "outputs": [],
   "source": [
    "# Evaluate only certain sized objects in a dataset\n",
    "dataset.compute_metadata()\n",
    "\n",
    "# Create an expression that will match objects by bounding box area\n",
    "bbox_area = (\n",
    "    F(\"$metadata.width\") * F(\"bounding_box\")[2] *\n",
    "    F(\"$metadata.height\") * F(\"bounding_box\")[3]\n",
    ")"
   ]
  },
  {
   "cell_type": "code",
   "execution_count": null,
   "id": "3d2fa470",
   "metadata": {},
   "outputs": [],
   "source": [
    "# sized_boxes = bbox_area < 32 ** 2 # small boxes: area smaller than 32^2 pixels\n",
    "# sized_boxes = (32 ** 2 < bbox_area) & (bbox_area < 96 ** 2) # medium boxes: area between 32^2 and 96^2 pixels\n",
    "sized_boxes = bbox_area > 96 ** 2 # large boxes: area larger than 96^2 pixels"
   ]
  },
  {
   "cell_type": "code",
   "execution_count": null,
   "id": "ce63fb7d",
   "metadata": {},
   "outputs": [],
   "source": [
    "# Create a view that contains only certain sized (and high confidence) predictions\n",
    "sized_boxes_view = (\n",
    "    high_conf_view\n",
    "    .filter_labels(\"ground_truth\", sized_boxes)\n",
    "    .filter_labels(\"predictions\", sized_boxes)\n",
    ")\n",
    "\n",
    "session.view = sized_boxes_view"
   ]
  },
  {
   "cell_type": "code",
   "execution_count": null,
   "id": "207f5cde",
   "metadata": {},
   "outputs": [],
   "source": [
    "# Evaluate only certain sized objects\n",
    "sized_boxes_results = sized_boxes_view.evaluate_detections(\n",
    "    pred_field=\"predictions\",\n",
    "    gt_field=\"ground_truth\",\n",
    "    eval_key=\"eval_sized\",\n",
    ")\n",
    "\n",
    "# Print a classification report\n",
    "sized_boxes_results.print_report()"
   ]
  },
  {
   "cell_type": "markdown",
   "id": "015c7f4a",
   "metadata": {},
   "source": [
    "## Tagging the predictions with missing ground truth detections"
   ]
  },
  {
   "cell_type": "code",
   "execution_count": null,
   "id": "bbd9ebcc",
   "metadata": {},
   "outputs": [],
   "source": [
    "# Tag all highly confident false positives as \"possibly-missing\"\n",
    "(\n",
    "    high_conf_view\n",
    "        .filter_labels(\"predictions\", F(\"eval\") == \"fp\")\n",
    "        .select_fields(\"predictions\")\n",
    "        .tag_labels(\"possibly-missing\")\n",
    ")"
   ]
  },
  {
   "cell_type": "code",
   "execution_count": null,
   "id": "58278cf7",
   "metadata": {},
   "outputs": [],
   "source": [
    "# Export all labels with the `possibly-missing` tag in COCO format\n",
    "export_path = \"probably_missing\"\n",
    "(\n",
    "    dataset\n",
    "        .select_labels(tags=[\"possibly-missing\"])\n",
    "        .export(export_path, fo.types.COCODetectionDataset)\n",
    ")"
   ]
  },
  {
   "cell_type": "code",
   "execution_count": null,
   "id": "f56329ba",
   "metadata": {},
   "outputs": [],
   "source": []
  }
 ],
 "metadata": {
  "kernelspec": {
   "display_name": "Python 3",
   "language": "python",
   "name": "python3"
  },
  "language_info": {
   "codemirror_mode": {
    "name": "ipython",
    "version": 3
   },
   "file_extension": ".py",
   "mimetype": "text/x-python",
   "name": "python",
   "nbconvert_exporter": "python",
   "pygments_lexer": "ipython3",
   "version": "3.6.9"
  }
 },
 "nbformat": 4,
 "nbformat_minor": 5
}
