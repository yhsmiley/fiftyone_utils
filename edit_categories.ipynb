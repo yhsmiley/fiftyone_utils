{
 "cells": [
  {
   "cell_type": "markdown",
   "id": "6fe16343",
   "metadata": {},
   "source": [
    "## Setup"
   ]
  },
  {
   "cell_type": "code",
   "execution_count": 1,
   "id": "136df0a1",
   "metadata": {},
   "outputs": [],
   "source": [
    "import fiftyone as fo\n",
    "from fiftyone import ViewField as F"
   ]
  },
  {
   "cell_type": "markdown",
   "id": "55049b1a",
   "metadata": {},
   "source": [
    "## Import dataset"
   ]
  },
  {
   "cell_type": "code",
   "execution_count": null,
   "id": "90cf400c",
   "metadata": {},
   "outputs": [],
   "source": [
    "data_path = \"/media/data/datasets/TIL2021_CV_dataset/images/c3_release/images\"\n",
    "labels_path = \"/media/data/datasets/TIL2021_CV_dataset/images/c3_release/labels.json\"\n",
    "\n",
    "dataset = fo.Dataset.from_dir(\n",
    "    dataset_type=fo.types.COCODetectionDataset,\n",
    "    data_path=data_path,\n",
    "    labels_path=labels_path,\n",
    ")"
   ]
  },
  {
   "cell_type": "code",
   "execution_count": null,
   "id": "b84b6919",
   "metadata": {},
   "outputs": [],
   "source": [
    "dataset"
   ]
  },
  {
   "cell_type": "code",
   "execution_count": null,
   "id": "f622bf3e",
   "metadata": {},
   "outputs": [],
   "source": [
    "classes = ['Chicken', 'Snake']\n",
    "classes_view = dataset.filter_labels(\"ground_truth\", F(\"label\").is_in(classes))"
   ]
  },
  {
   "cell_type": "code",
   "execution_count": null,
   "id": "7fd3412a",
   "metadata": {},
   "outputs": [],
   "source": [
    "classes_view.save()"
   ]
  },
  {
   "cell_type": "code",
   "execution_count": null,
   "id": "0ab0d1ad",
   "metadata": {},
   "outputs": [],
   "source": [
    "dataset.info"
   ]
  },
  {
   "cell_type": "code",
   "execution_count": null,
   "id": "e1ae30b9",
   "metadata": {},
   "outputs": [],
   "source": [
    "dataset.default_classes"
   ]
  },
  {
   "cell_type": "code",
   "execution_count": null,
   "id": "968cf9aa",
   "metadata": {},
   "outputs": [],
   "source": [
    "dataset.default_classes = ['0', 'Chicken', 'Snake']\n",
    "dataset.save()\n",
    "dataset.default_classes"
   ]
  },
  {
   "cell_type": "code",
   "execution_count": null,
   "id": "d3a1990a",
   "metadata": {},
   "outputs": [],
   "source": [
    "new_categories = [cat for cat in dataset_1.info['categories'] if cat['name'] in dataset.default_classes]\n",
    "new_categories = [] # edit 'id'\n",
    "# dataset.info['categories'] = \n",
    "# dataset.save()"
   ]
  },
  {
   "cell_type": "code",
   "execution_count": null,
   "id": "0d3c670c",
   "metadata": {},
   "outputs": [],
   "source": [
    "dataset.info"
   ]
  }
 ],
 "metadata": {
  "kernelspec": {
   "display_name": "Python 3",
   "language": "python",
   "name": "python3"
  },
  "language_info": {
   "codemirror_mode": {
    "name": "ipython",
    "version": 3
   },
   "file_extension": ".py",
   "mimetype": "text/x-python",
   "name": "python",
   "nbconvert_exporter": "python",
   "pygments_lexer": "ipython3",
   "version": "3.6.9"
  }
 },
 "nbformat": 4,
 "nbformat_minor": 5
}
