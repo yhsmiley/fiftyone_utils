{
 "cells": [
  {
   "cell_type": "markdown",
   "id": "cac5ef1e",
   "metadata": {},
   "source": [
    "## Setup"
   ]
  },
  {
   "cell_type": "code",
   "execution_count": 11,
   "id": "7d940a04",
   "metadata": {},
   "outputs": [],
   "source": [
    "import shutil\n",
    "from pathlib import Path\n",
    "\n",
    "import fiftyone as fo"
   ]
  },
  {
   "cell_type": "markdown",
   "id": "61ba5023",
   "metadata": {},
   "source": [
    "## Import datasets"
   ]
  },
  {
   "cell_type": "code",
   "execution_count": 2,
   "id": "7ad765df",
   "metadata": {},
   "outputs": [
    {
     "name": "stdout",
     "output_type": "stream",
     "text": [
      " 100% |███████████████| 2136/2136 [3.9s elapsed, 0s remaining, 548.5 samples/s]      \n"
     ]
    }
   ],
   "source": [
    "# Dataset 1\n",
    "data_path = \"/media/data/datasets/TIL2021_CV_dataset/images/c2_release/images\"\n",
    "labels_path = \"/media/data/datasets/TIL2021_CV_dataset/images/c2_release/labels.json\"\n",
    "\n",
    "dataset_1 = fo.Dataset.from_dir(\n",
    "    dataset_type=fo.types.COCODetectionDataset,\n",
    "    data_path=data_path,\n",
    "    labels_path=labels_path,\n",
    ")"
   ]
  },
  {
   "cell_type": "code",
   "execution_count": 3,
   "id": "fafc841f",
   "metadata": {},
   "outputs": [
    {
     "name": "stdout",
     "output_type": "stream",
     "text": [
      " 100% |███████████████| 1068/1068 [1.8s elapsed, 0s remaining, 609.7 samples/s]         \n"
     ]
    }
   ],
   "source": [
    "# Dataset 2\n",
    "data_path = \"/media/data/datasets/TIL2021_CV_dataset/images/c3_release/images\"\n",
    "labels_path = \"/media/data/datasets/TIL2021_CV_dataset/images/c3_release/labels.json\"\n",
    "\n",
    "dataset_2 = fo.Dataset.from_dir(\n",
    "    dataset_type=fo.types.COCODetectionDataset,\n",
    "    data_path=data_path,\n",
    "    labels_path=labels_path,\n",
    ")"
   ]
  },
  {
   "cell_type": "markdown",
   "id": "d5fd3e2a",
   "metadata": {},
   "source": [
    "## Check datasets"
   ]
  },
  {
   "cell_type": "code",
   "execution_count": 4,
   "id": "76512902",
   "metadata": {},
   "outputs": [
    {
     "data": {
      "text/plain": [
       "Name:        2021.07.06.06.15.20\n",
       "Media type:  image\n",
       "Num samples: 2136\n",
       "Persistent:  False\n",
       "Tags:        []\n",
       "Sample fields:\n",
       "    id:           fiftyone.core.fields.ObjectIdField\n",
       "    filepath:     fiftyone.core.fields.StringField\n",
       "    tags:         fiftyone.core.fields.ListField(fiftyone.core.fields.StringField)\n",
       "    metadata:     fiftyone.core.fields.EmbeddedDocumentField(fiftyone.core.metadata.Metadata)\n",
       "    ground_truth: fiftyone.core.fields.EmbeddedDocumentField(fiftyone.core.labels.Detections)"
      ]
     },
     "execution_count": 4,
     "metadata": {},
     "output_type": "execute_result"
    }
   ],
   "source": [
    "dataset_1"
   ]
  },
  {
   "cell_type": "code",
   "execution_count": 13,
   "id": "2148917a",
   "metadata": {},
   "outputs": [
    {
     "data": {
      "text/plain": [
       "{'contributor': '',\n",
       " 'date_created': '',\n",
       " 'description': '',\n",
       " 'url': '',\n",
       " 'version': '',\n",
       " 'year': '',\n",
       " 'licenses': [{'name': '', 'id': 0, 'url': ''}],\n",
       " 'categories': [{'id': 1, 'name': 'Cat', 'supercategory': ''},\n",
       "  {'id': 2, 'name': 'Dog', 'supercategory': ''},\n",
       "  {'id': 3, 'name': 'Bird', 'supercategory': ''},\n",
       "  {'id': 4, 'name': 'Chicken', 'supercategory': ''},\n",
       "  {'id': 5, 'name': 'Snake', 'supercategory': ''},\n",
       "  {'id': 6, 'name': 'Elephant', 'supercategory': ''},\n",
       "  {'id': 7, 'name': 'Dinosaur', 'supercategory': ''}]}"
      ]
     },
     "execution_count": 13,
     "metadata": {},
     "output_type": "execute_result"
    }
   ],
   "source": [
    "dataset_1.info"
   ]
  },
  {
   "cell_type": "code",
   "execution_count": 23,
   "id": "7ef52b53",
   "metadata": {},
   "outputs": [
    {
     "data": {
      "text/plain": [
       "['0', 'Cat', 'Dog', 'Bird', 'Chicken', 'Snake', 'Elephant', 'Dinosaur']"
      ]
     },
     "execution_count": 23,
     "metadata": {},
     "output_type": "execute_result"
    }
   ],
   "source": [
    "dataset_1.default_classes"
   ]
  },
  {
   "cell_type": "code",
   "execution_count": 5,
   "id": "563bcf2f",
   "metadata": {},
   "outputs": [
    {
     "data": {
      "text/plain": [
       "Name:        2021.07.06.06.15.24\n",
       "Media type:  image\n",
       "Num samples: 1068\n",
       "Persistent:  False\n",
       "Tags:        []\n",
       "Sample fields:\n",
       "    id:           fiftyone.core.fields.ObjectIdField\n",
       "    filepath:     fiftyone.core.fields.StringField\n",
       "    tags:         fiftyone.core.fields.ListField(fiftyone.core.fields.StringField)\n",
       "    metadata:     fiftyone.core.fields.EmbeddedDocumentField(fiftyone.core.metadata.Metadata)\n",
       "    ground_truth: fiftyone.core.fields.EmbeddedDocumentField(fiftyone.core.labels.Detections)"
      ]
     },
     "execution_count": 5,
     "metadata": {},
     "output_type": "execute_result"
    }
   ],
   "source": [
    "dataset_2"
   ]
  },
  {
   "cell_type": "code",
   "execution_count": 14,
   "id": "57876f1b",
   "metadata": {},
   "outputs": [
    {
     "data": {
      "text/plain": [
       "{'contributor': '',\n",
       " 'date_created': '',\n",
       " 'description': '',\n",
       " 'url': '',\n",
       " 'version': '',\n",
       " 'year': '',\n",
       " 'licenses': [{'name': '', 'id': 0, 'url': ''}],\n",
       " 'categories': [{'id': 1, 'name': 'Cat', 'supercategory': ''},\n",
       "  {'id': 2, 'name': 'Dog', 'supercategory': ''},\n",
       "  {'id': 3, 'name': 'Bird', 'supercategory': ''},\n",
       "  {'id': 4, 'name': 'Chicken', 'supercategory': ''},\n",
       "  {'id': 5, 'name': 'Snake', 'supercategory': ''},\n",
       "  {'id': 6, 'name': 'Elephant', 'supercategory': ''},\n",
       "  {'id': 7, 'name': 'Dinosaur', 'supercategory': ''},\n",
       "  {'id': 8, 'name': 'Crocodile', 'supercategory': ''}]}"
      ]
     },
     "execution_count": 14,
     "metadata": {},
     "output_type": "execute_result"
    }
   ],
   "source": [
    "dataset_2.info"
   ]
  },
  {
   "cell_type": "code",
   "execution_count": 20,
   "id": "ddff8ac7",
   "metadata": {},
   "outputs": [
    {
     "data": {
      "text/plain": [
       "['0',\n",
       " 'Cat',\n",
       " 'Dog',\n",
       " 'Bird',\n",
       " 'Chicken',\n",
       " 'Snake',\n",
       " 'Elephant',\n",
       " 'Dinosaur',\n",
       " 'Crocodile']"
      ]
     },
     "execution_count": 20,
     "metadata": {},
     "output_type": "execute_result"
    }
   ],
   "source": [
    "dataset_2.default_classes"
   ]
  },
  {
   "cell_type": "markdown",
   "id": "03aa7acb",
   "metadata": {},
   "source": [
    "## Merge datasets"
   ]
  },
  {
   "cell_type": "code",
   "execution_count": 24,
   "id": "235590f8",
   "metadata": {},
   "outputs": [],
   "source": [
    "dataset_1.merge_samples(dataset_2, overwrite_info=True)"
   ]
  },
  {
   "cell_type": "markdown",
   "id": "50521f22",
   "metadata": {},
   "source": [
    "### Sanity check"
   ]
  },
  {
   "cell_type": "code",
   "execution_count": 25,
   "id": "138bb8ed",
   "metadata": {},
   "outputs": [
    {
     "data": {
      "text/plain": [
       "Name:        2021.07.06.06.15.20\n",
       "Media type:  image\n",
       "Num samples: 3204\n",
       "Persistent:  False\n",
       "Tags:        []\n",
       "Sample fields:\n",
       "    id:           fiftyone.core.fields.ObjectIdField\n",
       "    filepath:     fiftyone.core.fields.StringField\n",
       "    tags:         fiftyone.core.fields.ListField(fiftyone.core.fields.StringField)\n",
       "    metadata:     fiftyone.core.fields.EmbeddedDocumentField(fiftyone.core.metadata.Metadata)\n",
       "    ground_truth: fiftyone.core.fields.EmbeddedDocumentField(fiftyone.core.labels.Detections)"
      ]
     },
     "execution_count": 25,
     "metadata": {},
     "output_type": "execute_result"
    }
   ],
   "source": [
    "dataset_1"
   ]
  },
  {
   "cell_type": "code",
   "execution_count": 26,
   "id": "eaf85323",
   "metadata": {},
   "outputs": [
    {
     "data": {
      "text/plain": [
       "{'contributor': '',\n",
       " 'date_created': '',\n",
       " 'description': '',\n",
       " 'url': '',\n",
       " 'version': '',\n",
       " 'year': '',\n",
       " 'licenses': [{'name': '', 'id': 0, 'url': ''}],\n",
       " 'categories': [{'id': 1, 'name': 'Cat', 'supercategory': ''},\n",
       "  {'id': 2, 'name': 'Dog', 'supercategory': ''},\n",
       "  {'id': 3, 'name': 'Bird', 'supercategory': ''},\n",
       "  {'id': 4, 'name': 'Chicken', 'supercategory': ''},\n",
       "  {'id': 5, 'name': 'Snake', 'supercategory': ''},\n",
       "  {'id': 6, 'name': 'Elephant', 'supercategory': ''},\n",
       "  {'id': 7, 'name': 'Dinosaur', 'supercategory': ''},\n",
       "  {'id': 8, 'name': 'Crocodile', 'supercategory': ''}]}"
      ]
     },
     "execution_count": 26,
     "metadata": {},
     "output_type": "execute_result"
    }
   ],
   "source": [
    "dataset_1.info"
   ]
  },
  {
   "cell_type": "code",
   "execution_count": 27,
   "id": "7314bc78",
   "metadata": {},
   "outputs": [
    {
     "data": {
      "text/plain": [
       "['0',\n",
       " 'Cat',\n",
       " 'Dog',\n",
       " 'Bird',\n",
       " 'Chicken',\n",
       " 'Snake',\n",
       " 'Elephant',\n",
       " 'Dinosaur',\n",
       " 'Crocodile']"
      ]
     },
     "execution_count": 27,
     "metadata": {},
     "output_type": "execute_result"
    }
   ],
   "source": [
    "dataset_1.default_classes"
   ]
  },
  {
   "cell_type": "markdown",
   "id": "22f69eab",
   "metadata": {},
   "source": [
    "## Export merged dataset"
   ]
  },
  {
   "cell_type": "code",
   "execution_count": 28,
   "id": "2de0efb1",
   "metadata": {},
   "outputs": [
    {
     "name": "stdout",
     "output_type": "stream",
     "text": [
      "c3_combined will be overwritten. Are you sure? y/n: y\n",
      " 100% |███████████████| 3204/3204 [4.7s elapsed, 0s remaining, 737.7 samples/s]      \n"
     ]
    }
   ],
   "source": [
    "export_dir = Path(\"c3_combined\")\n",
    "\n",
    "if export_dir.is_dir():\n",
    "    if input(f'{export_dir.name} will be overwritten. Are you sure? y/n: ') == 'y':\n",
    "        shutil.rmtree(export_dir)\n",
    "        dataset_1.export(\n",
    "            dataset_type=fo.types.COCODetectionDataset,\n",
    "            export_dir=str(export_dir),\n",
    "            label_field=\"ground_truth\"\n",
    "        )"
   ]
  },
  {
   "cell_type": "code",
   "execution_count": null,
   "id": "9c1a47b2",
   "metadata": {},
   "outputs": [],
   "source": []
  }
 ],
 "metadata": {
  "kernelspec": {
   "display_name": "Python 3",
   "language": "python",
   "name": "python3"
  },
  "language_info": {
   "codemirror_mode": {
    "name": "ipython",
    "version": 3
   },
   "file_extension": ".py",
   "mimetype": "text/x-python",
   "name": "python",
   "nbconvert_exporter": "python",
   "pygments_lexer": "ipython3",
   "version": "3.6.9"
  }
 },
 "nbformat": 4,
 "nbformat_minor": 5
}
